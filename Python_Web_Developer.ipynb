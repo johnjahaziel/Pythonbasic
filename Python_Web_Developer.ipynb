{
 "cells": [
  {
   "cell_type": "code",
   "execution_count": 1,
   "id": "e40fe350-3f33-48f5-8177-eb8a3bb084a3",
   "metadata": {},
   "outputs": [
    {
     "name": "stdout",
     "output_type": "stream",
     "text": [
      "Hello World\n"
     ]
    }
   ],
   "source": [
    "print(\"Hello World\")"
   ]
  },
  {
   "cell_type": "code",
   "execution_count": 2,
   "id": "fea3a0b3-da6a-4801-9927-8a378657e7d7",
   "metadata": {},
   "outputs": [
    {
     "name": "stdout",
     "output_type": "stream",
     "text": [
      "1\n"
     ]
    }
   ],
   "source": [
    "a = 1\n",
    "b = 2\n",
    "print(a)"
   ]
  },
  {
   "cell_type": "code",
   "execution_count": 3,
   "id": "3584773c-416c-4be1-b8bd-6e6f6762615c",
   "metadata": {},
   "outputs": [
    {
     "data": {
      "text/plain": [
       "3"
      ]
     },
     "execution_count": 3,
     "metadata": {},
     "output_type": "execute_result"
    }
   ],
   "source": [
    "a+b"
   ]
  },
  {
   "cell_type": "code",
   "execution_count": 7,
   "id": "b436064a-d28f-44c0-bb91-c5cfd4cc8a80",
   "metadata": {},
   "outputs": [
    {
     "name": "stdout",
     "output_type": "stream",
     "text": [
      "John Jahaziel\n"
     ]
    }
   ],
   "source": [
    "a = \"John \"\n",
    "b = \"Jahaziel\"\n",
    "print(a+b)"
   ]
  },
  {
   "cell_type": "code",
   "execution_count": 8,
   "id": "f388a0e7-f03b-4665-b5f6-40e11b8e355b",
   "metadata": {},
   "outputs": [
    {
     "name": "stdout",
     "output_type": "stream",
     "text": [
      "<class 'str'>\n"
     ]
    }
   ],
   "source": [
    "print(type(a))"
   ]
  },
  {
   "cell_type": "code",
   "execution_count": 14,
   "id": "ce4bdaf3-2998-4921-a2ce-e79ab3c54fc2",
   "metadata": {},
   "outputs": [
    {
     "name": "stdin",
     "output_type": "stream",
     "text": [
      "Enter a number 40\n"
     ]
    },
    {
     "name": "stdout",
     "output_type": "stream",
     "text": [
      "Accepted\n"
     ]
    }
   ],
   "source": [
    "#if the given number is above 30 print accepted or else print not accepted\n",
    "\n",
    "a = int(input(\"Enter a number\"))\n",
    "if (a >= 30):\n",
    "    print(\"Accepted\")\n",
    "else:\n",
    "    print (\"Not Accepted\")"
   ]
  },
  {
   "cell_type": "code",
   "execution_count": 33,
   "id": "80beb7ee-d4f6-41f5-9b36-5265384c188e",
   "metadata": {},
   "outputs": [
    {
     "name": "stdin",
     "output_type": "stream",
     "text": [
      "Enter Your Mark 36\n"
     ]
    },
    {
     "name": "stdout",
     "output_type": "stream",
     "text": [
      "Grade C\n"
     ]
    }
   ],
   "source": [
    "#above 90 grade a, below 90 above 60 grade b ,60 35 c ,35 fail\n",
    "\n",
    "a = int(input(\"Enter Your Mark\"))\n",
    "if(a >= 90):\n",
    "    print(\"Grade A\")\n",
    "elif(a < 90 and a >= 60):\n",
    "    print(\"Grade B\")\n",
    "elif(a < 60 and a >= 35):\n",
    "    print(\"Grade C\")\n",
    "else:\n",
    "    print(\"Fail\")"
   ]
  },
  {
   "cell_type": "code",
   "execution_count": 34,
   "id": "c41da6ec-2436-4aaa-a665-3377df13ca36",
   "metadata": {},
   "outputs": [
    {
     "name": "stdout",
     "output_type": "stream",
     "text": [
      "leizahaJ nhoJ\n"
     ]
    }
   ],
   "source": [
    "#reverse the given string in python\n",
    "\n",
    "a = \"John Jahaziel\" [::-1]\n",
    "print(a)"
   ]
  },
  {
   "cell_type": "code",
   "execution_count": 40,
   "id": "425646ea-cf93-4640-b3bd-40e2038cfc38",
   "metadata": {},
   "outputs": [
    {
     "name": "stdin",
     "output_type": "stream",
     "text": [
      "Enter any word to check Palindrome Radar\n"
     ]
    },
    {
     "name": "stdout",
     "output_type": "stream",
     "text": [
      "It is not palindrome\n"
     ]
    }
   ],
   "source": [
    "a = input(\"Enter any word to check Palindrome\")\n",
    "if(a == a[::-1]):\n",
    "    print(\"It is palindrome\")\n",
    "else:\n",
    "    print(\"It is not palindrome\")"
   ]
  },
  {
   "cell_type": "code",
   "execution_count": 41,
   "id": "d969b6cd-661d-463a-863e-5c432b837557",
   "metadata": {},
   "outputs": [],
   "source": [
    "#print all prime numbers between 1 and 50\n",
    "#find the sum of even number between 1 and 100\n",
    "#count the number of vowels in a given string\n",
    "#remove all spaces from the string\n",
    "#count how many times each character appears in the string\n",
    "#write a condition to check if the entered number is odd or even\n",
    "#get the square root value for given number\n",
    "#remove all even numbers from the List"
   ]
  },
  {
   "cell_type": "code",
   "execution_count": 55,
   "id": "c3b2f2ce-7e6d-4a24-99dc-1959fa5b22ab",
   "metadata": {},
   "outputs": [
    {
     "name": "stdout",
     "output_type": "stream",
     "text": [
      "2 3 5 7 11 13 17 19 23 29 31 37 41 43 47 "
     ]
    }
   ],
   "source": [
    "#print all prime numbers between 1 and 50\n",
    "\n",
    "for i in range(2,50):\n",
    "    for num in range(2, i):\n",
    "        if i % num == 0:\n",
    "            break\n",
    "    else:\n",
    "        print(i, end = \" \")"
   ]
  },
  {
   "cell_type": "code",
   "execution_count": 50,
   "id": "b69bbb3c-ca0b-4e37-b70d-62f96fb8ce0f",
   "metadata": {},
   "outputs": [
    {
     "name": "stdout",
     "output_type": "stream",
     "text": [
      "2550\n"
     ]
    }
   ],
   "source": [
    "#find the sum of even number between 1 and 100\n",
    "\n",
    "a = sum(range(0,101,2))\n",
    "print(a)"
   ]
  },
  {
   "cell_type": "code",
   "execution_count": 51,
   "id": "144eec6f-4cc4-4ef3-b341-dd6aa0173278",
   "metadata": {},
   "outputs": [
    {
     "name": "stdin",
     "output_type": "stream",
     "text": [
      "Enter any string John Jahaziel\n"
     ]
    },
    {
     "name": "stdout",
     "output_type": "stream",
     "text": [
      "5\n"
     ]
    }
   ],
   "source": [
    "#count the number of vowels in a given string\n",
    "\n",
    "a = input(\"Enter any string\")\n",
    "print(sum(1 for char in a.lower() if char in 'aeiou'))"
   ]
  },
  {
   "cell_type": "code",
   "execution_count": 68,
   "id": "4854d154-2a7f-4005-9dd2-0e2fcba21b86",
   "metadata": {},
   "outputs": [
    {
     "name": "stdout",
     "output_type": "stream",
     "text": [
      "John Jahaziel\n"
     ]
    }
   ],
   "source": [
    "#remove all spaces from the string\n",
    "\n",
    "a = \"     John      Jahaziel    \"\n",
    "a = \" \".join(a.split())\n",
    "print(a)"
   ]
  },
  {
   "cell_type": "code",
   "execution_count": 75,
   "id": "f42e0542-0f20-4584-9ade-5f28ca4b478f",
   "metadata": {},
   "outputs": [
    {
     "name": "stdin",
     "output_type": "stream",
     "text": [
      "Enter any String John Jahaziel\n"
     ]
    },
    {
     "name": "stdout",
     "output_type": "stream",
     "text": [
      "{'J': 2, 'o': 1, 'h': 2, 'n': 1, ' ': 1, 'a': 2, 'z': 1, 'i': 1, 'e': 1, 'l': 1}\n"
     ]
    }
   ],
   "source": [
    "#count how many times each character appears in the string\n",
    "\n",
    "a = input(\"Enter any String\")\n",
    "count = {}\n",
    "for char in a:\n",
    "    count[char] = count.get(char, 0) + 1\n",
    "print(count)"
   ]
  },
  {
   "cell_type": "code",
   "execution_count": 95,
   "id": "45ef2e1e-8757-4d78-af4f-9e4a34969fef",
   "metadata": {},
   "outputs": [
    {
     "name": "stdin",
     "output_type": "stream",
     "text": [
      "Enter any String John Jahaziel\n"
     ]
    },
    {
     "name": "stdout",
     "output_type": "stream",
     "text": [
      "Counter({'J': 2, 'h': 2, 'a': 2, 'o': 1, 'n': 1, ' ': 1, 'z': 1, 'i': 1, 'e': 1, 'l': 1})\n"
     ]
    }
   ],
   "source": [
    "from collections import Counter\n",
    "\n",
    "a = input(\"Enter any String\")\n",
    "count = Counter(a)\n",
    "print(count)"
   ]
  },
  {
   "cell_type": "code",
   "execution_count": 77,
   "id": "606e45bf-0606-43eb-b01e-09db5d859400",
   "metadata": {},
   "outputs": [
    {
     "name": "stdin",
     "output_type": "stream",
     "text": [
      "Enter Para John john john john jahaziel jahaziel jahaziel\n"
     ]
    },
    {
     "name": "stdout",
     "output_type": "stream",
     "text": [
      "{'John': 1, 'john': 3, 'jahaziel': 3}\n"
     ]
    }
   ],
   "source": [
    "#count how many times each word appears in the string\n",
    "\n",
    "a = input(\"Enter Para\")\n",
    "words = a.split()\n",
    "count = {}\n",
    "for b in words:\n",
    "    count[b] = count.get(b,0) + 1\n",
    "print(count)"
   ]
  },
  {
   "cell_type": "code",
   "execution_count": 79,
   "id": "1faa02c0-6f99-46cc-a40b-df3a1477239c",
   "metadata": {},
   "outputs": [
    {
     "name": "stdin",
     "output_type": "stream",
     "text": [
      "Enter the number 6\n"
     ]
    },
    {
     "name": "stdout",
     "output_type": "stream",
     "text": [
      "Even\n"
     ]
    }
   ],
   "source": [
    "#write a condition to check if the entered number is odd or even\n",
    "\n",
    "a = int(input(\"Enter the number\"))\n",
    "print(\"Even\" if (a % 2 == 0) else \"Odd\")"
   ]
  },
  {
   "cell_type": "code",
   "execution_count": 81,
   "id": "8a504b74-0341-4e76-b274-da5897accf98",
   "metadata": {},
   "outputs": [
    {
     "name": "stdin",
     "output_type": "stream",
     "text": [
      "Enter any number 25\n"
     ]
    },
    {
     "name": "stdout",
     "output_type": "stream",
     "text": [
      "5.0\n",
      "5.0\n"
     ]
    }
   ],
   "source": [
    "#get the square root value for given number\n",
    "import math\n",
    "\n",
    "a = int(input(\"Enter any number\"))\n",
    "print (a ** 0.5)\n",
    "print (math.sqrt(a))"
   ]
  },
  {
   "cell_type": "code",
   "execution_count": 92,
   "id": "ebeb8d6f-7eb1-4d13-b116-e4dc2443dced",
   "metadata": {},
   "outputs": [
    {
     "name": "stdout",
     "output_type": "stream",
     "text": [
      "[1, 3, 5, 7, 9]\n"
     ]
    }
   ],
   "source": [
    "#remove all even numbers from the List\n",
    "\n",
    "a = [1, 2, 3, 4, 5, 6, 7, 8, 9, 10]\n",
    "a = [n for n in a if n % 2 != 0]\n",
    "print(a)"
   ]
  },
  {
   "cell_type": "code",
   "execution_count": 6,
   "id": "f711e084-1382-4d48-bd69-4d15afbc512a",
   "metadata": {},
   "outputs": [
    {
     "name": "stdout",
     "output_type": "stream",
     "text": [
      "[1, 3, 4, 5, 6, 7, 8, 9, 10]\n"
     ]
    }
   ],
   "source": [
    "#remove a specific element from a list\n",
    "\n",
    "a = [1, 2, 3, 4, 5, 6, 7, 8, 9, 10]\n",
    "a.remove(2)\n",
    "print(a)"
   ]
  },
  {
   "cell_type": "code",
   "execution_count": 3,
   "id": "61a5fd07-ca7f-4380-9793-86277c2cf12a",
   "metadata": {},
   "outputs": [
    {
     "name": "stdout",
     "output_type": "stream",
     "text": [
      "[1, 22, 3, 4, 5, 6, 7, 8, 9, 10]\n"
     ]
    }
   ],
   "source": [
    "#replace a specific element from a list\n",
    "\n",
    "a = [1, 2, 3, 4, 5, 6, 7, 8, 9, 10]\n",
    "b = a.index(2)\n",
    "a[b] = 22\n",
    "print(a)"
   ]
  },
  {
   "cell_type": "code",
   "execution_count": 1,
   "id": "03e7ac8b-0582-487f-8df0-b9c5ff2288d1",
   "metadata": {},
   "outputs": [
    {
     "name": "stdout",
     "output_type": "stream",
     "text": [
      "[1, 2, 3, 4, 5, 6, 7, 8, 9, 10]\n"
     ]
    }
   ],
   "source": [
    "a = [1,2,3,4,5,6,7,8,9,10]\n",
    "print(a)"
   ]
  },
  {
   "cell_type": "code",
   "execution_count": 20,
   "id": "0409b51f-9fd3-4d1f-ba0c-f5021d22db24",
   "metadata": {},
   "outputs": [
    {
     "name": "stdout",
     "output_type": "stream",
     "text": [
      "['John', 8]\n"
     ]
    }
   ],
   "source": [
    "a = ['John',8,8.0,True]\n",
    "print(a[0:2])"
   ]
  },
  {
   "cell_type": "code",
   "execution_count": 24,
   "id": "f18d0115-8bd3-472f-b990-e02fea3ffc40",
   "metadata": {},
   "outputs": [
    {
     "name": "stdout",
     "output_type": "stream",
     "text": [
      "[1, 2, 3, 4, 5, 6, 7, 8, 9, 10]\n"
     ]
    }
   ],
   "source": [
    "a = [1,2,3,4,5]\n",
    "b = [6,7,8,9,10]\n",
    "c = a + b\n",
    "print(c)"
   ]
  },
  {
   "cell_type": "code",
   "execution_count": 90,
   "id": "49aa421c-0b88-4d64-9db4-8c8135897486",
   "metadata": {},
   "outputs": [
    {
     "name": "stdout",
     "output_type": "stream",
     "text": [
      "HI\n"
     ]
    },
    {
     "ename": "NameError",
     "evalue": "name 'x2' is not defined",
     "output_type": "error",
     "traceback": [
      "\u001b[1;31m---------------------------------------------------------------------------\u001b[0m",
      "\u001b[1;31mNameError\u001b[0m                                 Traceback (most recent call last)",
      "Cell \u001b[1;32mIn[90], line 10\u001b[0m\n\u001b[0;32m      7\u001b[0m     \u001b[38;5;28mprint\u001b[39m(x2)\n\u001b[0;32m      9\u001b[0m outer()\n\u001b[1;32m---> 10\u001b[0m \u001b[38;5;28mprint\u001b[39m(x2)\n",
      "\u001b[1;31mNameError\u001b[0m: name 'x2' is not defined"
     ]
    }
   ],
   "source": [
    "def outer():\n",
    "    x2 = \"Hello\"\n",
    "    def inner():\n",
    "        nonlocal x2\n",
    "        x2 = \"HI\"\n",
    "    inner()\n",
    "    print(x2)\n",
    "\n",
    "outer()\n",
    "print(x2)"
   ]
  },
  {
   "cell_type": "code",
   "execution_count": 52,
   "id": "0cd3bc83-5761-4ce8-9d57-2bb429343c2c",
   "metadata": {},
   "outputs": [
    {
     "name": "stdout",
     "output_type": "stream",
     "text": [
      "10\n",
      "10\n"
     ]
    }
   ],
   "source": [
    "x = 10\n",
    "\n",
    "def global_():\n",
    "    print(x)\n",
    "\n",
    "global_()\n",
    "print(x)\n"
   ]
  },
  {
   "cell_type": "code",
   "execution_count": 86,
   "id": "3942e6c1-8c9a-469a-9939-5a34f61259c8",
   "metadata": {},
   "outputs": [
    {
     "name": "stdout",
     "output_type": "stream",
     "text": [
      "20\n"
     ]
    },
    {
     "ename": "NameError",
     "evalue": "name 'x1' is not defined",
     "output_type": "error",
     "traceback": [
      "\u001b[1;31m---------------------------------------------------------------------------\u001b[0m",
      "\u001b[1;31mNameError\u001b[0m                                 Traceback (most recent call last)",
      "Cell \u001b[1;32mIn[86], line 6\u001b[0m\n\u001b[0;32m      3\u001b[0m     \u001b[38;5;28mprint\u001b[39m(x1)\n\u001b[0;32m      5\u001b[0m local_()\n\u001b[1;32m----> 6\u001b[0m \u001b[38;5;28mprint\u001b[39m(x1)\n",
      "\u001b[1;31mNameError\u001b[0m: name 'x1' is not defined"
     ]
    }
   ],
   "source": [
    "def local_():\n",
    "    x1 = 20\n",
    "    print(x1)\n",
    "\n",
    "local_()\n",
    "print(x1)"
   ]
  },
  {
   "cell_type": "code",
   "execution_count": 105,
   "id": "7f6a3730-119b-4fc1-abf0-c3ce14a40eac",
   "metadata": {},
   "outputs": [
    {
     "name": "stdout",
     "output_type": "stream",
     "text": [
      "Brand:  BMW Color:  Blue\n",
      "Brand:  BMWeee Color:  Bluee\n",
      "Brand:  BMWee2e2de Color:  Blueee32q\n"
     ]
    }
   ],
   "source": [
    "#class\n",
    "\n",
    "class Car():\n",
    "    def __init__(self,brand,color):\n",
    "        self.brand = brand\n",
    "        self.color = color\n",
    "    def details(self):\n",
    "        print(\"Brand: \",self.brand,\"Color: \",self.color)\n",
    "\n",
    "c1 = Car(\"BMW\",\"Blue\")\n",
    "c2 = Car(\"BMWeee\",\"Bluee\")\n",
    "c3 = Car(\"BMWee2e2de\",\"Blueee32q\")\n",
    "\n",
    "c4 = [c1,c2,c3]\n",
    "for carlist in c4:\n",
    "    carlist.details()"
   ]
  },
  {
   "cell_type": "code",
   "execution_count": 97,
   "id": "e13c9e83-d00f-4cb9-af0c-a1ba3fc43923",
   "metadata": {},
   "outputs": [
    {
     "name": "stdout",
     "output_type": "stream",
     "text": [
      "Animal : Dog Feature : Barkingy Animal : JOhn Feature : Jaha\n"
     ]
    }
   ],
   "source": [
    "#Class\n",
    "\n",
    "class animals():\n",
    "    def __init__(a,animal1name,feature1,animal2name,feature2):\n",
    "        a.animal1name = animal1name\n",
    "        a.feature1 = feature1\n",
    "        a.animal2name = animal2name\n",
    "        a.feature2 = feature2\n",
    "    def details(a):\n",
    "        print(\"Animal :\",a.animal1name,\"Feature :\",a.feature1,\"Animal :\",a.animal2name,\"Feature :\",a.feature2)\n",
    "\n",
    "dog = animals(\"Dog\",\"Barkingy\",\"JOhn\",\"Jaha\")\n",
    "# cat = animals(\"Cat\",\"Meow\")\n",
    "# duck = animals(\"Duck\", \"Kuwak\")\n",
    "# lion = animals(\"Lion\", \"Roar\")\n",
    "\n",
    "dog.details()"
   ]
  },
  {
   "cell_type": "code",
   "execution_count": 92,
   "id": "3099344b-33df-4b64-b499-f6ba310113bd",
   "metadata": {},
   "outputs": [
    {
     "name": "stdout",
     "output_type": "stream",
     "text": [
      "Bikes Name Color : Blue\n",
      "BMWW Red\n",
      "Hondaa Black\n",
      "Hero Honda Yellow\n"
     ]
    }
   ],
   "source": [
    "#Inheritance\n",
    "\n",
    "class Bikes():\n",
    "    def __init__(a,name):\n",
    "        a.name = name\n",
    "        # a.color = color\n",
    "    def data(a):\n",
    "        print(a.name,\"Color : Blue\")\n",
    "\n",
    "class BMW(Bikes):\n",
    "    def data(a):\n",
    "        print(a.name,\"Red\")\n",
    "\n",
    "class Honda(Bikes):\n",
    "    def data(a):\n",
    "        print(a.name,\"Black\")\n",
    "\n",
    "class Hero(Bikes):\n",
    "    def data(a):\n",
    "        print(a.name,\"Yellow\")\n",
    "\n",
    "bikes = Bikes(\"Bikes Name\")\n",
    "bikes.data()\n",
    "\n",
    "bmw = BMW(\"BMWW\")\n",
    "bmw.data()\n",
    "\n",
    "honda = Honda(\"Hondaa\")\n",
    "honda.data()\n",
    "\n",
    "hero = Hero(\"Hero Honda\")\n",
    "hero.data()"
   ]
  },
  {
   "cell_type": "code",
   "execution_count": 114,
   "id": "c588d44f-3547-4183-8294-0fbb30acbf27",
   "metadata": {},
   "outputs": [
    {
     "name": "stdout",
     "output_type": "stream",
     "text": [
      "Employee Name: Abdul\n",
      "Employee Role: Developer\n",
      "Employee ID: EMP#321\n",
      "\n",
      "\n",
      "Employee Name: Abdul\n",
      "Employee Role: Developer\n",
      "Employee ID: EMPP#!123\n"
     ]
    }
   ],
   "source": [
    "#Encapsulation\n",
    "\n",
    "class Employee():\n",
    "    def __init__(a,name,role):\n",
    "        a.name = name\n",
    "        a.role = role\n",
    "        a.id = \"EMP#321\"\n",
    "\n",
    "    def showdetails(a):\n",
    "        print(\"Employee Name:\",a.name)\n",
    "        print(\"Employee Role:\",a.role)\n",
    "        print(\"Employee ID:\",a.id)\n",
    "\n",
    "    def setnewid(a,id):\n",
    "        a.id = id\n",
    "\n",
    "    def getnewid(a):\n",
    "        print(a.id)\n",
    "\n",
    "E1 = Employee(\"John\",\"Developer\")\n",
    "E2 = Employee(\"Abdul\",\"Developer\")\n",
    "\n",
    "E2.showdetails()\n",
    "print(\"\\n\")\n",
    "\n",
    "E2.setnewid(\"EMPP#!123\")\n",
    "E2.showdetails()\n",
    "    "
   ]
  },
  {
   "cell_type": "code",
   "execution_count": 129,
   "id": "ccec7355-077a-4cee-81d9-298b837889a0",
   "metadata": {},
   "outputs": [
    {
     "name": "stdout",
     "output_type": "stream",
     "text": [
      "Virat\n",
      "Dhoni\n",
      "Rohit\n"
     ]
    }
   ],
   "source": [
    "#polymorphism\n",
    "\n",
    "class RCB:\n",
    "    def teamcaptain(a):\n",
    "        return (\"Virat\")\n",
    "\n",
    "class CSK:\n",
    "    def teamcaptain(a):\n",
    "        return (\"Dhoni\")\n",
    "\n",
    "class MI:\n",
    "    def teamcaptain(a):\n",
    "        return (\"Rohit\")\n",
    "\n",
    "def iplTeamCaptain(captain):\n",
    "    print(captain.teamcaptain())\n",
    "\n",
    "a = RCB()\n",
    "b = CSK()\n",
    "c = MI()\n",
    "\n",
    "iplTeamCaptain(a)\n",
    "iplTeamCaptain(b)\n",
    "iplTeamCaptain(c)"
   ]
  },
  {
   "cell_type": "code",
   "execution_count": 134,
   "id": "e040f60a-1425-4365-9a99-0f0db0d51554",
   "metadata": {},
   "outputs": [
    {
     "name": "stdout",
     "output_type": "stream",
     "text": [
      "Team Name: RCB\n",
      "Team Color: Red\n",
      "Tournament: IPL\n",
      "\n",
      "\n",
      "Team Name: CSK\n",
      "Team Color: Yellow\n",
      "Tournament: IPL\n",
      "\n",
      "\n",
      "Team Name: MI\n",
      "Team Color: Blue\n",
      "Tournament: IPL\n",
      "\n",
      "\n",
      "Team Name: CSK\n",
      "Team Color: Yellow\n",
      "Tournament: Indian Premier League\n"
     ]
    }
   ],
   "source": [
    "#Encapsulation\n",
    "\n",
    "class teams():\n",
    "    def __init__(a,name,color):\n",
    "        a.name = name\n",
    "        a.color = color\n",
    "        a.tournament = \"IPL\"\n",
    "        \n",
    "    def showdetails(a):\n",
    "        print(\"Team Name:\",a.name)\n",
    "        print(\"Team Color:\",a.color)\n",
    "        print(\"Tournament:\",a.tournament)\n",
    "\n",
    "    def setNewTournament(a,tournament):\n",
    "        a.tournament =tournament\n",
    "\n",
    "    def getNewTournament(a):\n",
    "        print(a.tournament)\n",
    "    \n",
    "a = teams(\"RCB\",\"Red\")\n",
    "b = teams(\"CSK\",\"Yellow\")\n",
    "c = teams(\"MI\",\"Blue\")\n",
    "\n",
    "a.showdetails()\n",
    "print(\"\\n\")\n",
    "b.showdetails()\n",
    "print(\"\\n\")\n",
    "c.showdetails()\n",
    "print(\"\\n\")\n",
    "\n",
    "b.setNewTournament(\"Indian Premier League\")\n",
    "b.showdetails()\n"
   ]
  },
  {
   "cell_type": "code",
   "execution_count": 137,
   "id": "82103859-e638-4fed-8d59-52790304d76e",
   "metadata": {},
   "outputs": [
    {
     "name": "stdout",
     "output_type": "stream",
     "text": [
      "Retired\n"
     ]
    }
   ],
   "source": [
    "#Polymorphism\n",
    "\n",
    "class Virat():\n",
    "    def specialist(a):\n",
    "        return \"Batter\"\n",
    "\n",
    "class Dhoni():\n",
    "    def specialist(a):\n",
    "        return \"Retired\"\n",
    "\n",
    "class Rohit():\n",
    "    def specialist(a):\n",
    "        return \"Vadapav\"\n",
    "\n",
    "def player(playingstatus):\n",
    "    print(playingstatus.specialist())\n",
    "\n",
    "virat = Virat()\n",
    "dhoni = Dhoni()\n",
    "rohit = Rohit()\n",
    "\n",
    "player(dhoni)\n",
    "    "
   ]
  },
  {
   "cell_type": "code",
   "execution_count": 143,
   "id": "c8e7974a-f7e4-477e-bf49-a978b12e5914",
   "metadata": {},
   "outputs": [
    {
     "name": "stdout",
     "output_type": "stream",
     "text": [
      "Abdul Male\n",
      "John Male\n",
      "Bla FeMale\n",
      "BLa bla FeMale\n"
     ]
    }
   ],
   "source": [
    "#inheritence\n",
    "\n",
    "class gender():\n",
    "    def __init__(a,name):\n",
    "        a.name = name\n",
    "\n",
    "class Male(gender):\n",
    "    def show(a):\n",
    "        print(a.name,\"Male\")\n",
    "\n",
    "class Female(gender):\n",
    "    def show(a):\n",
    "        print(a.name,\"FeMale\")\n",
    "\n",
    "a = Male(\"Abdul\")\n",
    "b = Male(\"John\")\n",
    "c = Female(\"Bla\")\n",
    "d = Female(\"BLa bla\")\n",
    "\n",
    "a.show()\n",
    "b.show()\n",
    "c.show()\n",
    "d.show()"
   ]
  },
  {
   "cell_type": "code",
   "execution_count": null,
   "id": "38099ca3-03d1-491d-81b0-a6cbb5c188aa",
   "metadata": {},
   "outputs": [],
   "source": []
  }
 ],
 "metadata": {
  "kernelspec": {
   "display_name": "Python 3 (ipykernel)",
   "language": "python",
   "name": "python3"
  },
  "language_info": {
   "codemirror_mode": {
    "name": "ipython",
    "version": 3
   },
   "file_extension": ".py",
   "mimetype": "text/x-python",
   "name": "python",
   "nbconvert_exporter": "python",
   "pygments_lexer": "ipython3",
   "version": "3.13.5"
  }
 },
 "nbformat": 4,
 "nbformat_minor": 5
}
